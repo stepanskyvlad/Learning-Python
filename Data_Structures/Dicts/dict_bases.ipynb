{
 "cells": [
  {
   "cell_type": "code",
   "execution_count": 1,
   "outputs": [
    {
     "data": {
      "text/plain": "{'Carlsen': 2842,\n 'Caruana': 2822,\n 'Mamedyarov': 2801,\n 'Ding': 2797,\n 'Giri': 2780}"
     },
     "execution_count": 1,
     "metadata": {},
     "output_type": "execute_result"
    }
   ],
   "source": [
    "players = {\n",
    "    'Carlsen': 2842,\n",
    "    'Caruana': 2822,\n",
    "    'Mamedyarov': 2801,\n",
    "    'Ding': 2797,\n",
    "    'Giri': 2780,\n",
    "}\n",
    "# another way\n",
    "players = dict(Carlsen=2842, Caruana=2822, Mamedyarov=2801, Ding=2797, Giri= 2780)\n",
    "players"
   ],
   "metadata": {
    "collapsed": false,
    "pycharm": {
     "name": "#%%\n"
    }
   }
  },
  {
   "cell_type": "code",
   "execution_count": 3,
   "outputs": [
    {
     "name": "stdout",
     "output_type": "stream",
     "text": [
      "Top chess player's ratting is 2842\n"
     ]
    }
   ],
   "source": [
    "top1 = players['Carlsen']\n",
    "print(f\"Top chess player's ratting is {top1}\")"
   ],
   "metadata": {
    "collapsed": false,
    "pycharm": {
     "name": "#%%\n"
    }
   }
  },
  {
   "cell_type": "code",
   "execution_count": 4,
   "outputs": [
    {
     "data": {
      "text/plain": "{'Carlsen': 2842,\n 'Caruana': 2822,\n 'Mamedyarov': 2801,\n 'Ding': 2797,\n 'Giri': 2780,\n 'So': 2700}"
     },
     "execution_count": 4,
     "metadata": {},
     "output_type": "execute_result"
    }
   ],
   "source": [
    "# add new item\n",
    "players['So'] = 2700\n",
    "players"
   ],
   "metadata": {
    "collapsed": false,
    "pycharm": {
     "name": "#%%\n"
    }
   }
  },
  {
   "cell_type": "code",
   "execution_count": 5,
   "outputs": [
    {
     "data": {
      "text/plain": "{'Carlsen': 2842,\n 'Caruana': 2822,\n 'Mamedyarov': 2801,\n 'Ding': 2797,\n 'Giri': 2780,\n 'So': 2781}"
     },
     "execution_count": 5,
     "metadata": {},
     "output_type": "execute_result"
    }
   ],
   "source": [
    "# update information\n",
    "players['So'] = 2781\n",
    "players"
   ],
   "metadata": {
    "collapsed": false,
    "pycharm": {
     "name": "#%%\n"
    }
   }
  },
  {
   "cell_type": "code",
   "execution_count": 6,
   "outputs": [
    {
     "data": {
      "text/plain": "{'Carlsen': 2842,\n 'Caruana': 2822,\n 'Mamedyarov': 2801,\n 'Ding': 2797,\n 'Giri': 2780}"
     },
     "execution_count": 6,
     "metadata": {},
     "output_type": "execute_result"
    }
   ],
   "source": [
    "# remove item\n",
    "del players['So']\n",
    "players"
   ],
   "metadata": {
    "collapsed": false,
    "pycharm": {
     "name": "#%%\n"
    }
   }
  },
  {
   "cell_type": "code",
   "execution_count": 8,
   "outputs": [
    {
     "name": "stdout",
     "output_type": "stream",
     "text": [
      "<class 'dict_keys'>\n",
      "dict_keys(['Carlsen', 'Caruana', 'Mamedyarov', 'Ding', 'Giri'])\n"
     ]
    }
   ],
   "source": [
    "# get keys from dict\n",
    "keys = players.keys()\n",
    "print(type(keys))\n",
    "print(keys)"
   ],
   "metadata": {
    "collapsed": false,
    "pycharm": {
     "name": "#%%\n"
    }
   }
  },
  {
   "cell_type": "code",
   "execution_count": 9,
   "outputs": [
    {
     "name": "stdout",
     "output_type": "stream",
     "text": [
      "<class 'list'>\n",
      "['Carlsen', 'Caruana', 'Mamedyarov', 'Ding', 'Giri']\n"
     ]
    }
   ],
   "source": [
    "# convert dict_keys to list\n",
    "l = list(players.keys())\n",
    "print(type(l))\n",
    "print(l)"
   ],
   "metadata": {
    "collapsed": false,
    "pycharm": {
     "name": "#%%\n"
    }
   }
  },
  {
   "cell_type": "code",
   "execution_count": 10,
   "outputs": [
    {
     "data": {
      "text/plain": "['Carlsen', 'Caruana', 'Ding', 'Giri', 'Mamedyarov']"
     },
     "execution_count": 10,
     "metadata": {},
     "output_type": "execute_result"
    }
   ],
   "source": [
    "# get sorted list\n",
    "sorted(players.keys())"
   ],
   "metadata": {
    "collapsed": false,
    "pycharm": {
     "name": "#%%\n"
    }
   }
  },
  {
   "cell_type": "code",
   "execution_count": 11,
   "outputs": [
    {
     "name": "stdout",
     "output_type": "stream",
     "text": [
      "True\n",
      "True\n"
     ]
    }
   ],
   "source": [
    "print('Carlsen' in players)\n",
    "print('Kramnik' not in players)"
   ],
   "metadata": {
    "collapsed": false,
    "pycharm": {
     "name": "#%%\n"
    }
   }
  },
  {
   "cell_type": "code",
   "execution_count": 12,
   "outputs": [
    {
     "name": "stdout",
     "output_type": "stream",
     "text": [
      "<class 'dict_values'>\n",
      "dict_values([2842, 2822, 2801, 2797, 2780])\n"
     ]
    }
   ],
   "source": [
    "vals = players.values()\n",
    "print(type(vals))\n",
    "print(vals)"
   ],
   "metadata": {
    "collapsed": false,
    "pycharm": {
     "name": "#%%\n"
    }
   }
  },
  {
   "cell_type": "code",
   "execution_count": 13,
   "outputs": [
    {
     "data": {
      "text/plain": "[2780, 2797, 2801, 2822, 2842]"
     },
     "execution_count": 13,
     "metadata": {},
     "output_type": "execute_result"
    }
   ],
   "source": [
    "sorted(players.values())"
   ],
   "metadata": {
    "collapsed": false,
    "pycharm": {
     "name": "#%%\n"
    }
   }
  },
  {
   "cell_type": "code",
   "execution_count": 14,
   "outputs": [
    {
     "data": {
      "text/plain": "{'Carlsen': 2842,\n 'Caruana': 2822,\n 'Mamedyarov': 2801,\n 'Ding': 2797,\n 'Giri': 2780}"
     },
     "execution_count": 14,
     "metadata": {},
     "output_type": "execute_result"
    }
   ],
   "source": [
    "players_copy = players.copy()\n",
    "players_copy"
   ],
   "metadata": {
    "collapsed": false,
    "pycharm": {
     "name": "#%%\n"
    }
   }
  },
  {
   "cell_type": "code",
   "execution_count": 16,
   "outputs": [
    {
     "name": "stdout",
     "output_type": "stream",
     "text": [
      "dict_items([('Carlsen', 2842), ('Caruana', 2822), ('Mamedyarov', 2801), ('Ding', 2797), ('Giri', 2780)])\n",
      "<class 'dict_items'>\n"
     ]
    }
   ],
   "source": [
    "items = players.items()\n",
    "print(items)\n",
    "print(type(items))"
   ],
   "metadata": {
    "collapsed": false,
    "pycharm": {
     "name": "#%%\n"
    }
   }
  },
  {
   "cell_type": "code",
   "execution_count": 17,
   "outputs": [
    {
     "name": "stdout",
     "output_type": "stream",
     "text": [
      "2780\n",
      "{'Carlsen': 2842, 'Caruana': 2822, 'Mamedyarov': 2801, 'Ding': 2797}\n"
     ]
    }
   ],
   "source": [
    "print(players.pop('Giri'))\n",
    "print(players)"
   ],
   "metadata": {
    "collapsed": false,
    "pycharm": {
     "name": "#%%\n"
    }
   }
  },
  {
   "cell_type": "code",
   "execution_count": 18,
   "outputs": [
    {
     "name": "stdout",
     "output_type": "stream",
     "text": [
      "('Ding', 2797)\n",
      "{'Carlsen': 2842, 'Caruana': 2822, 'Mamedyarov': 2801}\n"
     ]
    }
   ],
   "source": [
    "print(players.popitem())\n",
    "print(players)"
   ],
   "metadata": {
    "collapsed": false,
    "pycharm": {
     "name": "#%%\n"
    }
   }
  },
  {
   "cell_type": "code",
   "execution_count": 19,
   "outputs": [
    {
     "data": {
      "text/plain": "{'Carlsen': 2842, 'Caruana': 2822, 'Mamedyarov': 2801, 'Karjakin': None}"
     },
     "execution_count": 19,
     "metadata": {},
     "output_type": "execute_result"
    }
   ],
   "source": [
    "players.setdefault('Karjakin')\n",
    "players"
   ],
   "metadata": {
    "collapsed": false,
    "pycharm": {
     "name": "#%%\n"
    }
   }
  },
  {
   "cell_type": "code",
   "execution_count": 20,
   "outputs": [],
   "source": [
    "# OrderedDict vs dict"
   ],
   "metadata": {
    "collapsed": false,
    "pycharm": {
     "name": "#%%\n"
    }
   }
  },
  {
   "cell_type": "code",
   "execution_count": 24,
   "outputs": [],
   "source": [
    "d1 = {}\n",
    "d1['a'] = 'A'\n",
    "d1['b'] = 'B'\n",
    "d1['c'] = 'C'\n",
    "\n",
    "d2 = {}\n",
    "d2['b'] = 'B'\n",
    "d2['a'] = 'A'\n",
    "d2['c'] = 'C'\n",
    "\n",
    "d3 = {}\n",
    "d3['a'] = 'A'\n",
    "d3['b'] = 'B'\n",
    "d3['c'] = 'C'"
   ],
   "metadata": {
    "collapsed": false,
    "pycharm": {
     "name": "#%%\n"
    }
   }
  },
  {
   "cell_type": "code",
   "execution_count": 25,
   "outputs": [
    {
     "name": "stdout",
     "output_type": "stream",
     "text": [
      "True\n",
      "True\n"
     ]
    }
   ],
   "source": [
    "print(d1==d2)\n",
    "print(d1==d3)"
   ],
   "metadata": {
    "collapsed": false,
    "pycharm": {
     "name": "#%%\n"
    }
   }
  },
  {
   "cell_type": "code",
   "execution_count": 26,
   "outputs": [],
   "source": [
    "from _collections import OrderedDict"
   ],
   "metadata": {
    "collapsed": false,
    "pycharm": {
     "name": "#%%\n"
    }
   }
  },
  {
   "cell_type": "code",
   "execution_count": 27,
   "outputs": [],
   "source": [
    "d1 = OrderedDict()\n",
    "d1['a'] = 'A'\n",
    "d1['b'] = 'B'\n",
    "d1['c'] = 'C'\n",
    "\n",
    "d2 = OrderedDict()\n",
    "d2['b'] = 'B'\n",
    "d2['a'] = 'A'\n",
    "d2['c'] = 'C'\n",
    "\n",
    "d3 = OrderedDict()\n",
    "d3['a'] = 'A'\n",
    "d3['b'] = 'B'\n",
    "d3['c'] = 'C'"
   ],
   "metadata": {
    "collapsed": false,
    "pycharm": {
     "name": "#%%\n"
    }
   }
  },
  {
   "cell_type": "code",
   "execution_count": 28,
   "outputs": [
    {
     "name": "stdout",
     "output_type": "stream",
     "text": [
      "False\n",
      "True\n"
     ]
    }
   ],
   "source": [
    "print(d1==d2)\n",
    "print(d1==d3)"
   ],
   "metadata": {
    "collapsed": false,
    "pycharm": {
     "name": "#%%\n"
    }
   }
  },
  {
   "cell_type": "markdown",
   "source": [
    "Dictionary comprehensions"
   ],
   "metadata": {
    "collapsed": false
   }
  },
  {
   "cell_type": "code",
   "execution_count": 1,
   "outputs": [
    {
     "data": {
      "text/plain": "{'Bob': (0, 'Bob', 'password0'),\n 'Rolf': (1, 'Rolf', 'password1'),\n 'Jose': (2, 'Jose', 'password2'),\n 'username': (3, 'username', 'password3')}"
     },
     "execution_count": 1,
     "metadata": {},
     "output_type": "execute_result"
    }
   ],
   "source": [
    "users = [\n",
    "    (0, \"Bob\", \"password0\"),\n",
    "    (1, \"Rolf\", \"password1\"),\n",
    "    (2, \"Jose\", \"password2\"),\n",
    "    (3, \"username\", \"password3\"),\n",
    "]\n",
    "\n",
    "username_mapping = {user[1]: user for user in users}\n",
    "\n",
    "username_mapping"
   ],
   "metadata": {
    "collapsed": false,
    "ExecuteTime": {
     "end_time": "2023-06-21T05:34:23.298084300Z",
     "start_time": "2023-06-21T05:34:23.287972500Z"
    }
   }
  },
  {
   "cell_type": "code",
   "execution_count": null,
   "outputs": [],
   "source": [],
   "metadata": {
    "collapsed": false
   }
  }
 ],
 "metadata": {
  "kernelspec": {
   "display_name": "Python 3",
   "language": "python",
   "name": "python3"
  },
  "language_info": {
   "codemirror_mode": {
    "name": "ipython",
    "version": 2
   },
   "file_extension": ".py",
   "mimetype": "text/x-python",
   "name": "python",
   "nbconvert_exporter": "python",
   "pygments_lexer": "ipython2",
   "version": "2.7.6"
  }
 },
 "nbformat": 4,
 "nbformat_minor": 0
}
