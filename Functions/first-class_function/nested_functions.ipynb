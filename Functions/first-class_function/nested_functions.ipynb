{
 "cells": [
  {
   "cell_type": "code",
   "execution_count": 2,
   "outputs": [],
   "source": [
    "greeting = \"Hello from the global scope\"\n",
    "\n",
    "def greet():\n",
    "    greeting = 'Hello from enclosing scope'\n",
    "\n",
    "    def nested():\n",
    "        greeting = 'Hello from local scope'\n",
    "        print(greeting)\n",
    "    nested()"
   ],
   "metadata": {
    "collapsed": false,
    "pycharm": {
     "name": "#%%\n"
    }
   }
  },
  {
   "cell_type": "code",
   "execution_count": 3,
   "outputs": [
    {
     "name": "stdout",
     "output_type": "stream",
     "text": [
      "Hello from local scope\n",
      "Hello from the global scope\n"
     ]
    }
   ],
   "source": [
    "greet()\n",
    "print(greeting)"
   ],
   "metadata": {
    "collapsed": false,
    "pycharm": {
     "name": "#%%\n"
    }
   }
  },
  {
   "cell_type": "code",
   "execution_count": 5,
   "outputs": [],
   "source": [
    "greeting = \"Hello form the global scope\"\n",
    "\n",
    "def greet(greeting):\n",
    "    print(f\"Greet in func: {greeting}\")\n",
    "\n",
    "    greeting = \"Hello from enclosing scope\"\n",
    "\n",
    "    print(f\"Greet in func: {greeting}\")\n",
    "\n",
    "    def nested():\n",
    "        greeting = \"Hello from local scope\"\n",
    "        print(greeting)\n",
    "    nested()"
   ],
   "metadata": {
    "collapsed": false,
    "pycharm": {
     "name": "#%%\n"
    }
   }
  },
  {
   "cell_type": "code",
   "execution_count": 6,
   "outputs": [
    {
     "name": "stdout",
     "output_type": "stream",
     "text": [
      "Greet in func: test\n",
      "Greet in func: Hello from enclosing scope\n",
      "Hello from local scope\n",
      "Hello form the global scope\n"
     ]
    }
   ],
   "source": [
    "greet('test')\n",
    "print(greeting)"
   ],
   "metadata": {
    "collapsed": false,
    "pycharm": {
     "name": "#%%\n"
    }
   }
  },
  {
   "cell_type": "code",
   "execution_count": 7,
   "outputs": [],
   "source": [
    "greeting = \"Hello form the global scope\"\n",
    "\n",
    "def greet():\n",
    "    global greeting\n",
    "    print(f\"Greet in func: {greeting}\")\n",
    "\n",
    "    greeting = \"Hello from enclosing scope\"\n",
    "\n",
    "    print(f\"Greet in func: {greeting}\")\n",
    "\n",
    "    def nested():\n",
    "        greeting = \"Hello from local scope\"\n",
    "        print(greeting)\n",
    "    nested()"
   ],
   "metadata": {
    "collapsed": false,
    "pycharm": {
     "name": "#%%\n"
    }
   }
  },
  {
   "cell_type": "code",
   "execution_count": 8,
   "outputs": [
    {
     "name": "stdout",
     "output_type": "stream",
     "text": [
      "Greet in func: Hello form the global scope\n",
      "Greet in func: Hello from enclosing scope\n",
      "Hello from local scope\n",
      "Hello from enclosing scope\n"
     ]
    }
   ],
   "source": [
    "greet()\n",
    "print(greeting)"
   ],
   "metadata": {
    "collapsed": false,
    "pycharm": {
     "name": "#%%\n"
    }
   }
  },
  {
   "cell_type": "code",
   "execution_count": null,
   "outputs": [],
   "source": [],
   "metadata": {
    "collapsed": false
   }
  }
 ],
 "metadata": {
  "kernelspec": {
   "display_name": "Python 3",
   "language": "python",
   "name": "python3"
  },
  "language_info": {
   "codemirror_mode": {
    "name": "ipython",
    "version": 2
   },
   "file_extension": ".py",
   "mimetype": "text/x-python",
   "name": "python",
   "nbconvert_exporter": "python",
   "pygments_lexer": "ipython2",
   "version": "2.7.6"
  }
 },
 "nbformat": 4,
 "nbformat_minor": 0
}
