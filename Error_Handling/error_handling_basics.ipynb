{
 "cells": [
  {
   "cell_type": "code",
   "execution_count": 10,
   "outputs": [],
   "source": [
    "def calculate_safely(func):\n",
    "    def wrapper(*args, **kwargs):\n",
    "        try:\n",
    "            func(*args, **kwargs)\n",
    "        except TypeError as te:\n",
    "            print(f\"There's {te}\")\n",
    "        except ZeroDivisionError as ze:\n",
    "            print(f\"There's {ze}\")\n",
    "        except Exception as e:\n",
    "            print(f\"There's {e}\")\n",
    "        else:\n",
    "            return func(*args, **kwargs)\n",
    "\n",
    "    return wrapper"
   ],
   "metadata": {
    "collapsed": false,
    "pycharm": {
     "name": "#%%\n"
    }
   }
  },
  {
   "cell_type": "code",
   "execution_count": 11,
   "outputs": [],
   "source": [
    "@calculate_safely\n",
    "def divide(a, b):\n",
    "    result = a / b\n",
    "    return result"
   ],
   "metadata": {
    "collapsed": false,
    "pycharm": {
     "name": "#%%\n"
    }
   }
  },
  {
   "cell_type": "code",
   "execution_count": 12,
   "outputs": [
    {
     "name": "stdout",
     "output_type": "stream",
     "text": [
      "There's division by zero\n"
     ]
    }
   ],
   "source": [
    "divide(4, 0)"
   ],
   "metadata": {
    "collapsed": false,
    "pycharm": {
     "name": "#%%\n"
    }
   }
  },
  {
   "cell_type": "code",
   "execution_count": 13,
   "outputs": [
    {
     "data": {
      "text/plain": "2.0"
     },
     "execution_count": 13,
     "metadata": {},
     "output_type": "execute_result"
    }
   ],
   "source": [
    "divide(4, 2)"
   ],
   "metadata": {
    "collapsed": false,
    "pycharm": {
     "name": "#%%\n"
    }
   }
  },
  {
   "cell_type": "code",
   "execution_count": 14,
   "outputs": [
    {
     "name": "stdout",
     "output_type": "stream",
     "text": [
      "There's unsupported operand type(s) for /: 'int' and 'str'\n"
     ]
    }
   ],
   "source": [
    "divide(4, 'foo')"
   ],
   "metadata": {
    "collapsed": false,
    "pycharm": {
     "name": "#%%\n"
    }
   }
  },
  {
   "cell_type": "code",
   "execution_count": 11,
   "outputs": [
    {
     "name": "stdout",
     "output_type": "stream",
     "text": [
      "Error has occurred. Description:No such file or directory\n",
      "Finally\n",
      "doing some work here\n"
     ]
    }
   ],
   "source": [
    "file = None\n",
    "try:\n",
    "    file = open(r'C:\\tmp\\abracadabra.txt')\n",
    "    data = file.read()\n",
    "except FileNotFoundError as ex:\n",
    "    print(f\"Error has occurred. Description:{ex.strerror}\")\n",
    "# if the block \"try\" worked normally and block \"except\" was not executed\n",
    "else:\n",
    "    print(\"maybe else\")\n",
    "# block \"finally\" is executed in any case\n",
    "finally:\n",
    "    print('Finally')\n",
    "    if file:\n",
    "        file.close()\n",
    "\n",
    "print('doing some work here')"
   ],
   "metadata": {
    "collapsed": false,
    "pycharm": {
     "name": "#%%\n"
    }
   }
  },
  {
   "cell_type": "code",
   "execution_count": 12,
   "outputs": [],
   "source": [
    "# Raise exceptions. Custom errors."
   ],
   "metadata": {
    "collapsed": false,
    "pycharm": {
     "name": "#%%\n"
    }
   }
  },
  {
   "cell_type": "code",
   "execution_count": 15,
   "outputs": [],
   "source": [
    "import math\n",
    "\n",
    "def calc_square(ab, ac, bc):\n",
    "    if ab <= 0 or ac <= 0 or bc <= 0:\n",
    "        # raise exception with your own description\n",
    "        raise ValueError(\"One of the sides is less or equal to 0.\")\n",
    "\n",
    "    p = (ab + ac + bc) / 2\n",
    "    s = math.sqrt(p * (p - ab) * (p - ac) * (p - bc))\n",
    "\n",
    "    return s"
   ],
   "metadata": {
    "collapsed": false,
    "pycharm": {
     "name": "#%%\n"
    }
   }
  },
  {
   "cell_type": "code",
   "execution_count": 16,
   "outputs": [
    {
     "ename": "ValueError",
     "evalue": "One of the sides is less or equal to 0.",
     "output_type": "error",
     "traceback": [
      "\u001B[1;31m---------------------------------------------------------------------------\u001B[0m",
      "\u001B[1;31mValueError\u001B[0m                                Traceback (most recent call last)",
      "Cell \u001B[1;32mIn [16], line 1\u001B[0m\n\u001B[1;32m----> 1\u001B[0m square \u001B[38;5;241m=\u001B[39m \u001B[43mcalc_square\u001B[49m\u001B[43m(\u001B[49m\u001B[38;5;241;43m-\u001B[39;49m\u001B[38;5;241;43m2\u001B[39;49m\u001B[43m,\u001B[49m\u001B[43m \u001B[49m\u001B[38;5;241;43m8\u001B[39;49m\u001B[43m,\u001B[49m\u001B[43m \u001B[49m\u001B[38;5;241;43m8\u001B[39;49m\u001B[43m)\u001B[49m\n\u001B[0;32m      2\u001B[0m \u001B[38;5;28mprint\u001B[39m(square)\n",
      "Cell \u001B[1;32mIn [15], line 6\u001B[0m, in \u001B[0;36mcalc_square\u001B[1;34m(ab, ac, bc)\u001B[0m\n\u001B[0;32m      3\u001B[0m \u001B[38;5;28;01mdef\u001B[39;00m \u001B[38;5;21mcalc_square\u001B[39m(ab, ac, bc):\n\u001B[0;32m      4\u001B[0m     \u001B[38;5;28;01mif\u001B[39;00m ab \u001B[38;5;241m<\u001B[39m\u001B[38;5;241m=\u001B[39m \u001B[38;5;241m0\u001B[39m \u001B[38;5;129;01mor\u001B[39;00m ac \u001B[38;5;241m<\u001B[39m\u001B[38;5;241m=\u001B[39m \u001B[38;5;241m0\u001B[39m \u001B[38;5;129;01mor\u001B[39;00m bc \u001B[38;5;241m<\u001B[39m\u001B[38;5;241m=\u001B[39m \u001B[38;5;241m0\u001B[39m:\n\u001B[0;32m      5\u001B[0m         \u001B[38;5;66;03m# raise exception with your own description\u001B[39;00m\n\u001B[1;32m----> 6\u001B[0m         \u001B[38;5;28;01mraise\u001B[39;00m \u001B[38;5;167;01mValueError\u001B[39;00m(\u001B[38;5;124m\"\u001B[39m\u001B[38;5;124mOne of the sides is less or equal to 0.\u001B[39m\u001B[38;5;124m\"\u001B[39m)\n\u001B[0;32m      8\u001B[0m     p \u001B[38;5;241m=\u001B[39m (ab \u001B[38;5;241m+\u001B[39m ac \u001B[38;5;241m+\u001B[39m bc) \u001B[38;5;241m/\u001B[39m \u001B[38;5;241m2\u001B[39m\n\u001B[0;32m      9\u001B[0m     s \u001B[38;5;241m=\u001B[39m math\u001B[38;5;241m.\u001B[39msqrt(p \u001B[38;5;241m*\u001B[39m (p \u001B[38;5;241m-\u001B[39m ab) \u001B[38;5;241m*\u001B[39m (p \u001B[38;5;241m-\u001B[39m ac) \u001B[38;5;241m*\u001B[39m (p \u001B[38;5;241m-\u001B[39m bc))\n",
      "\u001B[1;31mValueError\u001B[0m: One of the sides is less or equal to 0."
     ]
    }
   ],
   "source": [
    "square = calc_square(-2, 8, 8)\n",
    "print(square)"
   ],
   "metadata": {
    "collapsed": false,
    "pycharm": {
     "name": "#%%\n"
    }
   }
  },
  {
   "cell_type": "code",
   "execution_count": 17,
   "outputs": [],
   "source": [
    "class InvalidTriangleError(Exception):\n",
    "    \"\"\"Raised when a triangle has invalid sides\"\"\""
   ],
   "metadata": {
    "collapsed": false,
    "pycharm": {
     "name": "#%%\n"
    }
   }
  },
  {
   "cell_type": "code",
   "execution_count": 18,
   "outputs": [],
   "source": [
    "def calc_square(ab, ac, bc):\n",
    "    if ab <= 0 or ac <= 0 or bc <= 0:\n",
    "        # raise exception with your own description\n",
    "        raise InvalidTriangleError(\"One of the sides is less or equal to 0.\")\n",
    "\n",
    "    p = (ab + ac + bc) / 2\n",
    "    s = math.sqrt(p * (p - ab) * (p - ac) * (p - bc))\n",
    "\n",
    "    return s"
   ],
   "metadata": {
    "collapsed": false,
    "pycharm": {
     "name": "#%%\n"
    }
   }
  },
  {
   "cell_type": "code",
   "execution_count": 19,
   "outputs": [
    {
     "ename": "InvalidTriangleError",
     "evalue": "One of the sides is less or equal to 0.",
     "output_type": "error",
     "traceback": [
      "\u001B[1;31m---------------------------------------------------------------------------\u001B[0m",
      "\u001B[1;31mInvalidTriangleError\u001B[0m                      Traceback (most recent call last)",
      "Cell \u001B[1;32mIn [19], line 1\u001B[0m\n\u001B[1;32m----> 1\u001B[0m square \u001B[38;5;241m=\u001B[39m \u001B[43mcalc_square\u001B[49m\u001B[43m(\u001B[49m\u001B[38;5;241;43m-\u001B[39;49m\u001B[38;5;241;43m2\u001B[39;49m\u001B[43m,\u001B[49m\u001B[43m \u001B[49m\u001B[38;5;241;43m8\u001B[39;49m\u001B[43m,\u001B[49m\u001B[43m \u001B[49m\u001B[38;5;241;43m8\u001B[39;49m\u001B[43m)\u001B[49m\n\u001B[0;32m      2\u001B[0m \u001B[38;5;28mprint\u001B[39m(square)\n",
      "Cell \u001B[1;32mIn [18], line 4\u001B[0m, in \u001B[0;36mcalc_square\u001B[1;34m(ab, ac, bc)\u001B[0m\n\u001B[0;32m      1\u001B[0m \u001B[38;5;28;01mdef\u001B[39;00m \u001B[38;5;21mcalc_square\u001B[39m(ab, ac, bc):\n\u001B[0;32m      2\u001B[0m     \u001B[38;5;28;01mif\u001B[39;00m ab \u001B[38;5;241m<\u001B[39m\u001B[38;5;241m=\u001B[39m \u001B[38;5;241m0\u001B[39m \u001B[38;5;129;01mor\u001B[39;00m ac \u001B[38;5;241m<\u001B[39m\u001B[38;5;241m=\u001B[39m \u001B[38;5;241m0\u001B[39m \u001B[38;5;129;01mor\u001B[39;00m bc \u001B[38;5;241m<\u001B[39m\u001B[38;5;241m=\u001B[39m \u001B[38;5;241m0\u001B[39m:\n\u001B[0;32m      3\u001B[0m         \u001B[38;5;66;03m# raise exception with your own description\u001B[39;00m\n\u001B[1;32m----> 4\u001B[0m         \u001B[38;5;28;01mraise\u001B[39;00m InvalidTriangleError(\u001B[38;5;124m\"\u001B[39m\u001B[38;5;124mOne of the sides is less or equal to 0.\u001B[39m\u001B[38;5;124m\"\u001B[39m)\n\u001B[0;32m      6\u001B[0m     p \u001B[38;5;241m=\u001B[39m (ab \u001B[38;5;241m+\u001B[39m ac \u001B[38;5;241m+\u001B[39m bc) \u001B[38;5;241m/\u001B[39m \u001B[38;5;241m2\u001B[39m\n\u001B[0;32m      7\u001B[0m     s \u001B[38;5;241m=\u001B[39m math\u001B[38;5;241m.\u001B[39msqrt(p \u001B[38;5;241m*\u001B[39m (p \u001B[38;5;241m-\u001B[39m ab) \u001B[38;5;241m*\u001B[39m (p \u001B[38;5;241m-\u001B[39m ac) \u001B[38;5;241m*\u001B[39m (p \u001B[38;5;241m-\u001B[39m bc))\n",
      "\u001B[1;31mInvalidTriangleError\u001B[0m: One of the sides is less or equal to 0."
     ]
    }
   ],
   "source": [
    "square = calc_square(-2, 8, 8)\n",
    "print(square)"
   ],
   "metadata": {
    "collapsed": false,
    "pycharm": {
     "name": "#%%\n"
    }
   }
  },
  {
   "cell_type": "code",
   "execution_count": null,
   "outputs": [],
   "source": [],
   "metadata": {
    "collapsed": false,
    "pycharm": {
     "name": "#%%\n"
    }
   }
  }
 ],
 "metadata": {
  "kernelspec": {
   "display_name": "Python 3",
   "language": "python",
   "name": "python3"
  },
  "language_info": {
   "codemirror_mode": {
    "name": "ipython",
    "version": 2
   },
   "file_extension": ".py",
   "mimetype": "text/x-python",
   "name": "python",
   "nbconvert_exporter": "python",
   "pygments_lexer": "ipython2",
   "version": "2.7.6"
  }
 },
 "nbformat": 4,
 "nbformat_minor": 0
}