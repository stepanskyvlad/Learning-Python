{
 "cells": [
  {
   "cell_type": "code",
   "execution_count": 14,
   "outputs": [],
   "source": [
    "class Character:\n",
    "\n",
    "    def __init__(self, race, armor, damage = 10):\n",
    "        self.race = race\n",
    "        self.armor = armor\n",
    "        self.damage = damage\n",
    "        self.health = 100\n",
    "\n",
    "    def hit(self, damage):\n",
    "        self.health -= damage\n",
    "\n",
    "    def is_dead(self):\n",
    "        return self.health == 0\n",
    "\n",
    "    # we can control the pickling and unpickling processes using dunder methods __getstate__ and __setstate__. We control pickling using __getstate__, to control unpickling using __setstate__.pickle\n",
    "    # def __getstate__(self):\n",
    "\n",
    "    def __setstate__(self, state):\n",
    "        self.race = state.get('race', 'Elf')\n",
    "        self.damage = state.get('damage', 10)\n",
    "        self.armor = state.get('armor', 20)\n",
    "        self.health = state.get('health', 100)"
   ],
   "metadata": {
    "collapsed": false,
    "pycharm": {
     "name": "#%%\n"
    }
   }
  },
  {
   "cell_type": "code",
   "execution_count": 2,
   "outputs": [
    {
     "data": {
      "text/plain": "90"
     },
     "execution_count": 2,
     "metadata": {},
     "output_type": "execute_result"
    }
   ],
   "source": [
    "c = Character('Elf')\n",
    "c.hit(10)\n",
    "c.health"
   ],
   "metadata": {
    "collapsed": false,
    "pycharm": {
     "name": "#%%\n"
    }
   }
  },
  {
   "cell_type": "code",
   "execution_count": 3,
   "outputs": [],
   "source": [
    "# try to save data of the object \"c\" into file"
   ],
   "metadata": {
    "collapsed": false,
    "pycharm": {
     "name": "#%%\n"
    }
   }
  },
  {
   "cell_type": "code",
   "execution_count": 4,
   "outputs": [],
   "source": [
    "import pickle\n",
    "\n",
    "with open(r\"game_state.bin\", 'w+b') as f:\n",
    "    # transfer the data into beats\n",
    "    pickle.dump(c, f)"
   ],
   "metadata": {
    "collapsed": false,
    "pycharm": {
     "name": "#%%\n"
    }
   }
  },
  {
   "cell_type": "code",
   "execution_count": 5,
   "outputs": [
    {
     "name": "stdout",
     "output_type": "stream",
     "text": [
      "None\n"
     ]
    }
   ],
   "source": [
    "c = None\n",
    "print(c)"
   ],
   "metadata": {
    "collapsed": false,
    "pycharm": {
     "name": "#%%\n"
    }
   }
  },
  {
   "cell_type": "code",
   "execution_count": 15,
   "outputs": [
    {
     "name": "stdout",
     "output_type": "stream",
     "text": [
      "90\n"
     ]
    }
   ],
   "source": [
    "# під час анпіклінга ініціалізація не викликається, викликається \"__new__\"\n",
    "with open(r\"game_state.bin\", 'rb') as f:\n",
    "    c = pickle.load(f)\n",
    "\n",
    "print(c.health)"
   ],
   "metadata": {
    "collapsed": false,
    "pycharm": {
     "name": "#%%\n"
    }
   }
  },
  {
   "cell_type": "code",
   "execution_count": 16,
   "outputs": [
    {
     "name": "stdout",
     "output_type": "stream",
     "text": [
      "{'race': 'Elf', 'damage': 10, 'armor': 20, 'health': 90}\n"
     ]
    }
   ],
   "source": [
    "print(c.__dict__)"
   ],
   "metadata": {
    "collapsed": false,
    "pycharm": {
     "name": "#%%\n"
    }
   }
  },
  {
   "cell_type": "code",
   "execution_count": null,
   "outputs": [],
   "source": [],
   "metadata": {
    "collapsed": false,
    "pycharm": {
     "name": "#%%\n"
    }
   }
  }
 ],
 "metadata": {
  "kernelspec": {
   "display_name": "Python 3",
   "language": "python",
   "name": "python3"
  },
  "language_info": {
   "codemirror_mode": {
    "name": "ipython",
    "version": 2
   },
   "file_extension": ".py",
   "mimetype": "text/x-python",
   "name": "python",
   "nbconvert_exporter": "python",
   "pygments_lexer": "ipython2",
   "version": "2.7.6"
  }
 },
 "nbformat": 4,
 "nbformat_minor": 0
}