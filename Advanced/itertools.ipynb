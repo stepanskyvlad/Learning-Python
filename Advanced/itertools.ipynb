{
 "cells": [
  {
   "cell_type": "markdown",
   "source": [
    "Слід розрізняти поняття об'єкта-ітератора та об'єкта, що ітерується. Ітератор це об'єкт, який використовується для ітерації по об'єкту, що ітерується використовуючи next() dunder-метод.\n",
    "Справедливо наступне твердження: будь-який об'єкт-ітератор можна ітерувати, але не будь-який об'єкт, що ітерується, є об'єктом-ітератором.\n",
    "Наприклад, list ітерується, але ітератором не є. Щоб отримати ітератор з об'єкта, що ітерується, треба скористатися методом iter(), який, власне, і повертає об'єкт-ітератор."
   ],
   "metadata": {
    "collapsed": false,
    "pycharm": {
     "name": "#%% md\n"
    }
   }
  },
  {
   "cell_type": "code",
   "execution_count": 1,
   "outputs": [
    {
     "name": "stdout",
     "output_type": "stream",
     "text": [
      "<class 'list_iterator'>\n",
      "1\n",
      "2\n",
      "3\n"
     ]
    }
   ],
   "source": [
    "# створимо об'єкт, що ітерується типу list.\n",
    "iterable = [1, 2, 3]\n",
    "\n",
    "# щоби отримати об'єкт-ітератор, на треба викликати iter() і передати туди об'єкт, що ітерується.\n",
    "iterator = iter(iterable)  # викликаємо метод __iter__() реалізований списком.\n",
    "print(type(iterator))\n",
    "\n",
    "print(next(iterator))  # викликаємо метод __next__() реалізований в середині об'єкта-ітератора.\n",
    "print(next(iterator))\n",
    "print(next(iterator))"
   ],
   "metadata": {
    "collapsed": false,
    "pycharm": {
     "name": "#%%\n"
    }
   }
  },
  {
   "cell_type": "code",
   "execution_count": 2,
   "outputs": [],
   "source": [
    "import itertools as it"
   ],
   "metadata": {
    "collapsed": false,
    "pycharm": {
     "name": "#%%\n"
    }
   }
  },
  {
   "cell_type": "markdown",
   "source": [
    "Infinite iterators"
   ],
   "metadata": {
    "collapsed": false,
    "pycharm": {
     "name": "#%% md\n"
    }
   }
  },
  {
   "cell_type": "code",
   "execution_count": 3,
   "outputs": [
    {
     "name": "stdout",
     "output_type": "stream",
     "text": [
      "[0, 2, 4, 6, 8]\n"
     ]
    }
   ],
   "source": [
    "even_numbers = [x for x in range(10) if x % 2 == 0]\n",
    "print(even_numbers)  # результати зразу матеріалізуються, тобто пам'ять виділяються під всі згенеровані елементи."
   ],
   "metadata": {
    "collapsed": false,
    "pycharm": {
     "name": "#%%\n"
    }
   }
  },
  {
   "cell_type": "code",
   "execution_count": 4,
   "outputs": [
    {
     "data": {
      "text/plain": "count(0, 2)"
     },
     "execution_count": 4,
     "metadata": {},
     "output_type": "execute_result"
    }
   ],
   "source": [
    "# We can do the same, but with lazy evaluation.\n",
    "even_numbers = it.count(0, 2)  # 0 - initial(початкове) value, 2 - step. It is infinite iterator.\n",
    "even_numbers"
   ],
   "metadata": {
    "collapsed": false,
    "pycharm": {
     "name": "#%%\n"
    }
   }
  },
  {
   "cell_type": "code",
   "execution_count": 5,
   "outputs": [],
   "source": [
    "#for x in even_numbers:\n",
    "#   print(x) --> an infinite loop"
   ],
   "metadata": {
    "collapsed": false,
    "pycharm": {
     "name": "#%%\n"
    }
   }
  },
  {
   "cell_type": "code",
   "execution_count": 6,
   "outputs": [
    {
     "data": {
      "text/plain": "[0, 2, 4, 6, 8]"
     },
     "execution_count": 6,
     "metadata": {},
     "output_type": "execute_result"
    }
   ],
   "source": [
    "list(next(even_numbers) for _ in range(5))"
   ],
   "metadata": {
    "collapsed": false,
    "pycharm": {
     "name": "#%%\n"
    }
   }
  },
  {
   "cell_type": "code",
   "execution_count": 7,
   "outputs": [
    {
     "data": {
      "text/plain": "[(0, 'a'), (1, 'b'), (2, 'c')]"
     },
     "execution_count": 7,
     "metadata": {},
     "output_type": "execute_result"
    }
   ],
   "source": [
    "list(zip(it.count(), ['a', 'b', 'c']))"
   ],
   "metadata": {
    "collapsed": false,
    "pycharm": {
     "name": "#%%\n"
    }
   }
  },
  {
   "cell_type": "code",
   "execution_count": 8,
   "outputs": [],
   "source": [
    "def print_iterable(iterable, end=None):\n",
    "    for x in iterable:\n",
    "        if end:\n",
    "            print(x, end=end)\n",
    "        else:\n",
    "            print(x)"
   ],
   "metadata": {
    "collapsed": false,
    "pycharm": {
     "name": "#%%\n"
    }
   }
  },
  {
   "cell_type": "code",
   "execution_count": 9,
   "outputs": [
    {
     "name": "stdout",
     "output_type": "stream",
     "text": [
      "1 | 1 | 1 | 1 | 1 | "
     ]
    }
   ],
   "source": [
    "ones = it.repeat(1, 5)  # функція repeat() дозволяє задати значення, яке повторюється зазначену кількість разів.\n",
    "print_iterable(ones, ' | ')"
   ],
   "metadata": {
    "collapsed": false,
    "pycharm": {
     "name": "#%%\n"
    }
   }
  },
  {
   "cell_type": "code",
   "execution_count": 10,
   "outputs": [
    {
     "data": {
      "text/plain": "[0, 1, 4, 9, 16, 25, 36, 49, 64, 81]"
     },
     "execution_count": 10,
     "metadata": {},
     "output_type": "execute_result"
    }
   ],
   "source": [
    "list(map(pow, range(10), it.repeat(2)))"
   ],
   "metadata": {
    "collapsed": false,
    "pycharm": {
     "name": "#%%\n"
    }
   }
  },
  {
   "cell_type": "code",
   "execution_count": 11,
   "outputs": [
    {
     "name": "stdout",
     "output_type": "stream",
     "text": [
      "[1, -1, 1, -1, 1, -1, 1, -1, 1, -1]\n",
      "['A', 'B', 'C', 'A', 'B', 'C', 'A', 'B', 'C', 'A']\n"
     ]
    }
   ],
   "source": [
    "pos_neg_ones = it.cycle([1, -1])  # нескінченний ітератор по набору значень\n",
    "print(list(next(pos_neg_ones) for _ in range(10)))\n",
    "\n",
    "letters = it.cycle(['A', 'B', 'C'])\n",
    "print(list(next(letters) for _ in range(10)))"
   ],
   "metadata": {
    "collapsed": false,
    "pycharm": {
     "name": "#%%\n"
    }
   }
  },
  {
   "cell_type": "markdown",
   "source": [
    "Iterators terminating on the shortest input sequence. Ітератори, що завершуються на найкоротшій вхідній послідовності"
   ],
   "metadata": {
    "collapsed": false,
    "pycharm": {
     "name": "#%% md\n"
    }
   }
  },
  {
   "cell_type": "code",
   "execution_count": 12,
   "outputs": [
    {
     "data": {
      "text/plain": "[1, 3, 6, 10, 15]"
     },
     "execution_count": 12,
     "metadata": {},
     "output_type": "execute_result"
    }
   ],
   "source": [
    "list(it.accumulate([1, 2, 3, 4, 5]))"
   ],
   "metadata": {
    "collapsed": false,
    "pycharm": {
     "name": "#%%\n"
    }
   }
  },
  {
   "cell_type": "code",
   "execution_count": 13,
   "outputs": [
    {
     "data": {
      "text/plain": "['A', 'AB', 'ABC', 'ABCD']"
     },
     "execution_count": 13,
     "metadata": {},
     "output_type": "execute_result"
    }
   ],
   "source": [
    "list(it.accumulate(['A', 'B', 'C', 'D']))"
   ],
   "metadata": {
    "collapsed": false,
    "pycharm": {
     "name": "#%%\n"
    }
   }
  },
  {
   "cell_type": "markdown",
   "source": [
    "Вся потужність accumulate полягає в тому, що ми можемо накладати будь-яку функцію, яка приймає два елемента і продукує результат по якомусь принципу."
   ],
   "metadata": {
    "collapsed": false,
    "pycharm": {
     "name": "#%% md\n"
    }
   }
  },
  {
   "cell_type": "code",
   "execution_count": 14,
   "outputs": [
    {
     "data": {
      "text/plain": "[3, 3, 4, 4, 7, 7, 8, 8, 9]"
     },
     "execution_count": 14,
     "metadata": {},
     "output_type": "execute_result"
    }
   ],
   "source": [
    "list(it.accumulate([3, 1, 4, 2, 7, 3, 8, 5, 9], max))"
   ],
   "metadata": {
    "collapsed": false,
    "pycharm": {
     "name": "#%%\n"
    }
   }
  },
  {
   "cell_type": "code",
   "execution_count": 18,
   "outputs": [
    {
     "data": {
      "text/plain": "['A', 'B', 'C', 'D', 'E', 'F']"
     },
     "execution_count": 18,
     "metadata": {},
     "output_type": "execute_result"
    }
   ],
   "source": [
    "list(it.chain('ABC', 'DEF'))  # розкладає послідовності"
   ],
   "metadata": {
    "collapsed": false,
    "pycharm": {
     "name": "#%%\n"
    }
   }
  },
  {
   "cell_type": "code",
   "execution_count": 19,
   "outputs": [
    {
     "data": {
      "text/plain": "['A', 'B', 'C', 'D', 'E', 'F']"
     },
     "execution_count": 19,
     "metadata": {},
     "output_type": "execute_result"
    }
   ],
   "source": [
    "list(it.chain.from_iterable(['ABC', 'DEF']))"
   ],
   "metadata": {
    "collapsed": false,
    "pycharm": {
     "name": "#%%\n"
    }
   }
  },
  {
   "cell_type": "code",
   "execution_count": 20,
   "outputs": [
    {
     "data": {
      "text/plain": "[1, 2, 3, 4, 5, 6, 7, 8, 9]"
     },
     "execution_count": 20,
     "metadata": {},
     "output_type": "execute_result"
    }
   ],
   "source": [
    "list(it.chain([1, 2, 3], [4, 5, 6], [7, 8, 9]))"
   ],
   "metadata": {
    "collapsed": false,
    "pycharm": {
     "name": "#%%\n"
    }
   }
  },
  {
   "cell_type": "code",
   "execution_count": 21,
   "outputs": [
    {
     "data": {
      "text/plain": "[3, 4, 5]"
     },
     "execution_count": 21,
     "metadata": {},
     "output_type": "execute_result"
    }
   ],
   "source": [
    "list(it.dropwhile(lambda x: x<3, [1, 2, 3, 4, 5]))"
   ],
   "metadata": {
    "collapsed": false,
    "pycharm": {
     "name": "#%%\n"
    }
   }
  },
  {
   "cell_type": "code",
   "execution_count": 22,
   "outputs": [
    {
     "data": {
      "text/plain": "[1, 2]"
     },
     "execution_count": 22,
     "metadata": {},
     "output_type": "execute_result"
    }
   ],
   "source": [
    "list(it.takewhile(lambda x: x<3, [1, 2, 3, 4, 5]))"
   ],
   "metadata": {
    "collapsed": false,
    "pycharm": {
     "name": "#%%\n"
    }
   }
  },
  {
   "cell_type": "code",
   "execution_count": 23,
   "outputs": [
    {
     "data": {
      "text/plain": "[1, 3, 5, 7, 9]"
     },
     "execution_count": 23,
     "metadata": {},
     "output_type": "execute_result"
    }
   ],
   "source": [
    "list(it.filterfalse(lambda x: x%2==0, range(10)))"
   ],
   "metadata": {
    "collapsed": false,
    "pycharm": {
     "name": "#%%\n"
    }
   }
  },
  {
   "cell_type": "code",
   "execution_count": 24,
   "outputs": [
    {
     "name": "stdout",
     "output_type": "stream",
     "text": [
      "1; 2; 3; \n",
      "iterable is exausted\n"
     ]
    }
   ],
   "source": [
    "iterable = iter([1, 2, 3])\n",
    "print_iterable(iterable, '; ')\n",
    "print(\"\\niterable is exausted\")\n",
    "print_iterable(iterable, '; ')"
   ],
   "metadata": {
    "collapsed": false,
    "pycharm": {
     "name": "#%%\n"
    }
   }
  },
  {
   "cell_type": "code",
   "execution_count": 25,
   "outputs": [
    {
     "name": "stdout",
     "output_type": "stream",
     "text": [
      "1; 2; 3; \n",
      "iterable is exausted\n",
      "1; 2; 3; "
     ]
    }
   ],
   "source": [
    "iterable1, iterable2 = it.tee([1, 2, 3], 2)\n",
    "print_iterable(iterable1, '; ')\n",
    "print(\"\\niterable is exausted\")\n",
    "print_iterable(iterable2, '; ')"
   ],
   "metadata": {
    "collapsed": false,
    "pycharm": {
     "name": "#%%\n"
    }
   }
  },
  {
   "cell_type": "code",
   "execution_count": 26,
   "outputs": [
    {
     "name": "stdout",
     "output_type": "stream",
     "text": [
      "Carlsen:2842\n",
      "Caruana:2822\n",
      "Mamedyarov:2801\n",
      "Ding:2797\n",
      "Giri:2780\n"
     ]
    }
   ],
   "source": [
    "names = ['Carlsen', 'Caruana', 'Mamedyarov', 'Ding', 'Giri']\n",
    "ratings = [2842, 2822, 2801, 2797, 2780]\n",
    "\n",
    "for name, rating in zip(names, ratings):\n",
    "    print(f\"{name}:{rating}\")"
   ],
   "metadata": {
    "collapsed": false,
    "pycharm": {
     "name": "#%%\n"
    }
   }
  },
  {
   "cell_type": "code",
   "execution_count": 27,
   "outputs": [
    {
     "data": {
      "text/plain": "[('Carlsen', 2842),\n ('Caruana', 2822),\n ('Mamedyarov', 2801),\n ('Ding', 2797),\n ('Giri', 2780)]"
     },
     "execution_count": 27,
     "metadata": {},
     "output_type": "execute_result"
    }
   ],
   "source": [
    "list(zip(names, ratings))"
   ],
   "metadata": {
    "collapsed": false,
    "pycharm": {
     "name": "#%%\n"
    }
   }
  },
  {
   "cell_type": "code",
   "execution_count": 28,
   "outputs": [
    {
     "data": {
      "text/plain": "{'Carlsen': 2842,\n 'Caruana': 2822,\n 'Mamedyarov': 2801,\n 'Ding': 2797,\n 'Giri': 2780}"
     },
     "execution_count": 28,
     "metadata": {},
     "output_type": "execute_result"
    }
   ],
   "source": [
    "dict(zip(names, ratings))"
   ],
   "metadata": {
    "collapsed": false,
    "pycharm": {
     "name": "#%%\n"
    }
   }
  },
  {
   "cell_type": "code",
   "execution_count": 29,
   "outputs": [
    {
     "data": {
      "text/plain": "{'Carlsen': 2842,\n 'Caruana': 2822,\n 'Mamedyarov': 2801,\n 'Ding': 2797,\n 'Giri': 2780}"
     },
     "execution_count": 29,
     "metadata": {},
     "output_type": "execute_result"
    }
   ],
   "source": [
    "names = ['Carlsen', 'Caruana', 'Mamedyarov', 'Ding', 'Giri', 'Kramnik']\n",
    "ratings = [2842, 2822, 2801, 2797, 2780]\n",
    "\n",
    "players = dict(zip(names, ratings))\n",
    "players"
   ],
   "metadata": {
    "collapsed": false,
    "pycharm": {
     "name": "#%%\n"
    }
   }
  },
  {
   "cell_type": "code",
   "execution_count": 31,
   "outputs": [
    {
     "data": {
      "text/plain": "{'Carlsen': 2842,\n 'Caruana': 2822,\n 'Mamedyarov': 2801,\n 'Ding': 2797,\n 'Giri': 2780,\n 'Kramnik': 0}"
     },
     "execution_count": 31,
     "metadata": {},
     "output_type": "execute_result"
    }
   ],
   "source": [
    "players = dict(it.zip_longest(names, ratings, fillvalue = 0))\n",
    "players"
   ],
   "metadata": {
    "collapsed": false,
    "pycharm": {
     "name": "#%%\n"
    }
   }
  },
  {
   "cell_type": "code",
   "execution_count": 32,
   "outputs": [
    {
     "name": "stdout",
     "output_type": "stream",
     "text": [
      "1:[1, 1, 1]\n",
      "2:[2, 2, 2]\n",
      "3:[3, 3]\n"
     ]
    }
   ],
   "source": [
    "for key, grp in it.groupby([1, 1, 1, 2, 2, 2, 3, 3]):\n",
    "    print('{}:{}'.format(key, list(grp)))"
   ],
   "metadata": {
    "collapsed": false,
    "pycharm": {
     "name": "#%%\n"
    }
   }
  },
  {
   "cell_type": "code",
   "execution_count": 33,
   "outputs": [
    {
     "name": "stdout",
     "output_type": "stream",
     "text": [
      "1:[1]\n",
      "2:[2]\n",
      "1:[1]\n",
      "2:[2, 2]\n",
      "3:[3, 3]\n",
      "2:[2]\n"
     ]
    }
   ],
   "source": [
    "for key, grp in it.groupby([1, 2, 1, 2, 2, 3, 3, 2]):\n",
    "    print('{}:{}'.format(key, list(grp)))"
   ],
   "metadata": {
    "collapsed": false,
    "pycharm": {
     "name": "#%%\n"
    }
   }
  },
  {
   "cell_type": "code",
   "execution_count": 34,
   "outputs": [
    {
     "name": "stdout",
     "output_type": "stream",
     "text": [
      "1:[1, 1]\n",
      "2:[2, 2, 2, 2]\n",
      "3:[3, 3]\n"
     ]
    }
   ],
   "source": [
    "lst = [1, 2, 1, 2, 2, 3, 3, 2]\n",
    "for key, grp in it.groupby(sorted(lst)):\n",
    "    print('{}:{}'.format(key, list(grp)))"
   ],
   "metadata": {
    "collapsed": false,
    "pycharm": {
     "name": "#%%\n"
    }
   }
  },
  {
   "cell_type": "code",
   "execution_count": 35,
   "outputs": [],
   "source": [
    "forecast = [{'humidity' : 20, 'temperature' : 78, 'wind' : 7} ,\n",
    "            {'humidity' : 50, 'temperature' : 61, 'wind' : 10} ,\n",
    "            {'humidity' : 100, 'temperature' : 81, 'wind' : 5} ,\n",
    "            {'humidity' : 90, 'temperature' : 62, 'wind' : 15} ,\n",
    "            {'humidity' : 20, 'temperature' : 84, 'wind' : 19} ,\n",
    "            {'humidity' : 0, 'temperature' : 66, 'wind' : 28} ,\n",
    "            {'humidity' : 100, 'temperature' : 87, 'wind' : 12} ,\n",
    "            {'humidity' : 0, 'temperature' : 68, 'wind' : 14} ,\n",
    "            {'humidity' : 90, 'temperature' : 86, 'wind' : 4} ,\n",
    "            {'humidity' : 50, 'temperature' : 68, 'wind' : 0} ,\n",
    "           ]"
   ],
   "metadata": {
    "collapsed": false,
    "pycharm": {
     "name": "#%%\n"
    }
   }
  },
  {
   "cell_type": "code",
   "execution_count": 36,
   "outputs": [],
   "source": [
    "def group_sorted(iterable, key=None):\n",
    "    return it.groupby(sorted(iterable, key=key), key=key)"
   ],
   "metadata": {
    "collapsed": false,
    "pycharm": {
     "name": "#%%\n"
    }
   }
  },
  {
   "cell_type": "code",
   "execution_count": 37,
   "outputs": [
    {
     "name": "stdout",
     "output_type": "stream",
     "text": [
      "0:[{'humidity': 0, 'temperature': 66, 'wind': 28}, {'humidity': 0, 'temperature': 68, 'wind': 14}]\n",
      "20:[{'humidity': 20, 'temperature': 78, 'wind': 7}, {'humidity': 20, 'temperature': 84, 'wind': 19}]\n",
      "50:[{'humidity': 50, 'temperature': 61, 'wind': 10}, {'humidity': 50, 'temperature': 68, 'wind': 0}]\n",
      "90:[{'humidity': 90, 'temperature': 62, 'wind': 15}, {'humidity': 90, 'temperature': 86, 'wind': 4}]\n",
      "100:[{'humidity': 100, 'temperature': 81, 'wind': 5}, {'humidity': 100, 'temperature': 87, 'wind': 12}]\n"
     ]
    }
   ],
   "source": [
    "group_data = group_sorted(forecast, key=lambda x: x['humidity'])\n",
    "for key, grp in group_data:\n",
    "    print('{}:{}'.format(key, list(grp)))"
   ],
   "metadata": {
    "collapsed": false,
    "pycharm": {
     "name": "#%%\n"
    }
   }
  },
  {
   "cell_type": "code",
   "execution_count": 41,
   "outputs": [
    {
     "name": "stdout",
     "output_type": "stream",
     "text": [
      "[0, 2, 4, 6, 8, 10, 12, 14, 16, 18]\n",
      "[4, 8, 12, 16]\n"
     ]
    }
   ],
   "source": [
    "even_numbers = it.count(0, 2)\n",
    "print([x for x in range(0, 20, 2)])\n",
    "\n",
    "print(list(it.islice(even_numbers, 2, 10, 2)))"
   ],
   "metadata": {
    "collapsed": false,
    "pycharm": {
     "name": "#%%\n"
    }
   }
  },
  {
   "cell_type": "code",
   "execution_count": 49,
   "outputs": [
    {
     "name": "stdout",
     "output_type": "stream",
     "text": [
      "[0, 2, 4, 6]\n"
     ]
    }
   ],
   "source": [
    "even_numbers = it.count(0, 2)\n",
    "print(list(it.islice(even_numbers, 4)))"
   ],
   "metadata": {
    "collapsed": false,
    "pycharm": {
     "name": "#%%\n"
    }
   }
  },
  {
   "cell_type": "code",
   "execution_count": 50,
   "outputs": [
    {
     "name": "stdout",
     "output_type": "stream",
     "text": [
      "[4, 6]\n"
     ]
    }
   ],
   "source": [
    "even_numbers = it.count(0, 2)\n",
    "print(list(it.islice(even_numbers, 2, 4)))"
   ],
   "metadata": {
    "collapsed": false,
    "pycharm": {
     "name": "#%%\n"
    }
   }
  },
  {
   "cell_type": "code",
   "execution_count": 51,
   "outputs": [],
   "source": [
    "pin = [7, 5, 2, 8]"
   ],
   "metadata": {
    "collapsed": false,
    "pycharm": {
     "name": "#%%\n"
    }
   }
  },
  {
   "cell_type": "code",
   "execution_count": 52,
   "outputs": [
    {
     "data": {
      "text/plain": "[(7, 5, 2, 8),\n (7, 5, 8, 2),\n (7, 2, 5, 8),\n (7, 2, 8, 5),\n (7, 8, 5, 2),\n (7, 8, 2, 5),\n (5, 7, 2, 8),\n (5, 7, 8, 2),\n (5, 2, 7, 8),\n (5, 2, 8, 7),\n (5, 8, 7, 2),\n (5, 8, 2, 7),\n (2, 7, 5, 8),\n (2, 7, 8, 5),\n (2, 5, 7, 8),\n (2, 5, 8, 7),\n (2, 8, 7, 5),\n (2, 8, 5, 7),\n (8, 7, 5, 2),\n (8, 7, 2, 5),\n (8, 5, 7, 2),\n (8, 5, 2, 7),\n (8, 2, 7, 5),\n (8, 2, 5, 7)]"
     },
     "execution_count": 52,
     "metadata": {},
     "output_type": "execute_result"
    }
   ],
   "source": [
    "list(it.permutations(pin))"
   ],
   "metadata": {
    "collapsed": false,
    "pycharm": {
     "name": "#%%\n"
    }
   }
  },
  {
   "cell_type": "code",
   "execution_count": 53,
   "outputs": [
    {
     "data": {
      "text/plain": "[('6', 'H'),\n ('6', 'D'),\n ('6', 'C'),\n ('6', 'S'),\n ('7', 'H'),\n ('7', 'D'),\n ('7', 'C'),\n ('7', 'S'),\n ('8', 'H'),\n ('8', 'D'),\n ('8', 'C'),\n ('8', 'S'),\n ('9', 'H'),\n ('9', 'D'),\n ('9', 'C'),\n ('9', 'S'),\n ('10', 'H'),\n ('10', 'D'),\n ('10', 'C'),\n ('10', 'S'),\n ('J', 'H'),\n ('J', 'D'),\n ('J', 'C'),\n ('J', 'S'),\n ('Q', 'H'),\n ('Q', 'D'),\n ('Q', 'C'),\n ('Q', 'S'),\n ('K', 'H'),\n ('K', 'D'),\n ('K', 'C'),\n ('K', 'S'),\n ('A', 'H'),\n ('A', 'D'),\n ('A', 'C'),\n ('A', 'S')]"
     },
     "execution_count": 53,
     "metadata": {},
     "output_type": "execute_result"
    }
   ],
   "source": [
    "ranks = ['6', '7', '8', '9', '10', 'J', 'Q', 'K', 'A']\n",
    "suits = ['H', 'D', 'C', 'S']\n",
    "\n",
    "lst  = list(it.product(ranks, suits))\n",
    "lst"
   ],
   "metadata": {
    "collapsed": false,
    "pycharm": {
     "name": "#%%\n"
    }
   }
  },
  {
   "cell_type": "code",
   "execution_count": 54,
   "outputs": [
    {
     "data": {
      "text/plain": "[('A', 'B'), ('A', 'C'), ('A', 'D'), ('B', 'C'), ('B', 'D'), ('C', 'D')]"
     },
     "execution_count": 54,
     "metadata": {},
     "output_type": "execute_result"
    }
   ],
   "source": [
    "list(it.combinations('ABCD', 2))"
   ],
   "metadata": {
    "collapsed": false,
    "pycharm": {
     "name": "#%%\n"
    }
   }
  },
  {
   "cell_type": "code",
   "execution_count": null,
   "outputs": [],
   "source": [],
   "metadata": {
    "collapsed": false,
    "pycharm": {
     "name": "#%%\n"
    }
   }
  }
 ],
 "metadata": {
  "kernelspec": {
   "display_name": "Python 3",
   "language": "python",
   "name": "python3"
  },
  "language_info": {
   "codemirror_mode": {
    "name": "ipython",
    "version": 2
   },
   "file_extension": ".py",
   "mimetype": "text/x-python",
   "name": "python",
   "nbconvert_exporter": "python",
   "pygments_lexer": "ipython2",
   "version": "2.7.6"
  }
 },
 "nbformat": 4,
 "nbformat_minor": 0
}