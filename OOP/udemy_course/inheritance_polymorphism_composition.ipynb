{
 "cells": [
  {
   "cell_type": "code",
   "execution_count": 2,
   "outputs": [],
   "source": [
    "class Shape:\n",
    "\n",
    "    def __init__(self):\n",
    "        print(\"Shape created\")\n",
    "\n",
    "    def draw(self):\n",
    "        print(\"Calc area\")\n",
    "\n",
    "    def area(self):\n",
    "        print(\"Calc area\")\n",
    "\n",
    "    def perimeter(self):\n",
    "        print('Calc perimeter')"
   ],
   "metadata": {
    "collapsed": false,
    "pycharm": {
     "name": "#%%\n"
    }
   }
  },
  {
   "cell_type": "code",
   "execution_count": 3,
   "outputs": [
    {
     "name": "stdout",
     "output_type": "stream",
     "text": [
      "Shape created\n"
     ]
    }
   ],
   "source": [
    "shape = Shape()"
   ],
   "metadata": {
    "collapsed": false,
    "pycharm": {
     "name": "#%%\n"
    }
   }
  },
  {
   "cell_type": "code",
   "execution_count": 10,
   "outputs": [],
   "source": [
    "class Rectangle(Shape):\n",
    "\n",
    "    def __init__(self, width, height):\n",
    "        Shape.__init__(self)\n",
    "\n",
    "        self.width = width\n",
    "        self.height = height\n",
    "\n",
    "        print(\"Rectangle created\")\n",
    "\n",
    "        Shape.area(self)\n",
    "\n",
    "    def area(self):\n",
    "        return self.width * self.height\n",
    "\n",
    "    def perimeter(self):\n",
    "        return 2*(self.width + self.height)\n",
    "\n",
    "    def draw(self):\n",
    "        print(f\"Drawing rectangle with width={self.width} and height={self.height}\")"
   ],
   "metadata": {
    "collapsed": false,
    "pycharm": {
     "name": "#%%\n"
    }
   }
  },
  {
   "cell_type": "code",
   "execution_count": 11,
   "outputs": [
    {
     "name": "stdout",
     "output_type": "stream",
     "text": [
      "Shape created\n",
      "Rectangle created\n",
      "Calc area\n"
     ]
    }
   ],
   "source": [
    "rect = Rectangle(10, 15)"
   ],
   "metadata": {
    "collapsed": false,
    "pycharm": {
     "name": "#%%\n"
    }
   }
  },
  {
   "cell_type": "code",
   "execution_count": 12,
   "outputs": [
    {
     "data": {
      "text/plain": "150"
     },
     "execution_count": 12,
     "metadata": {},
     "output_type": "execute_result"
    }
   ],
   "source": [
    "rect.area()"
   ],
   "metadata": {
    "collapsed": false,
    "pycharm": {
     "name": "#%%\n"
    }
   }
  },
  {
   "cell_type": "code",
   "execution_count": 13,
   "outputs": [
    {
     "name": "stdout",
     "output_type": "stream",
     "text": [
      "50\n",
      "Drawing rectangle with width=10 and height=15\n",
      "None\n"
     ]
    }
   ],
   "source": [
    "print(rect.perimeter())\n",
    "print(rect.draw())"
   ],
   "metadata": {
    "collapsed": false,
    "pycharm": {
     "name": "#%%\n"
    }
   }
  },
  {
   "cell_type": "code",
   "execution_count": 14,
   "outputs": [],
   "source": [
    "import math\n",
    "class Triangle(Shape):\n",
    "\n",
    "    def __init__(self, a, b, c):\n",
    "        Shape.__init__(self)\n",
    "\n",
    "        self.a = a\n",
    "        self.b = b\n",
    "        self.c = c\n",
    "\n",
    "        print(\"Triangle created\")\n",
    "\n",
    "    def draw(self):\n",
    "        print(f\"Drawing triangle with sides={self.a}, {self.b}, {self.c}\")\n",
    "\n",
    "    def area(self):\n",
    "        s = (self.a+self.b+self.c)/2\n",
    "        return math.sqrt(s*(s-self.a)*(s-self.b)*(s-self.c))\n",
    "\n",
    "    def perimeter(self):\n",
    "        return self.a+self.b+self.c"
   ],
   "metadata": {
    "collapsed": false,
    "pycharm": {
     "name": "#%%\n"
    }
   }
  },
  {
   "cell_type": "code",
   "execution_count": 15,
   "outputs": [
    {
     "name": "stdout",
     "output_type": "stream",
     "text": [
      "Shape created\n",
      "Triangle created\n"
     ]
    }
   ],
   "source": [
    "triangle = Triangle(10, 10, 10)"
   ],
   "metadata": {
    "collapsed": false,
    "pycharm": {
     "name": "#%%\n"
    }
   }
  },
  {
   "cell_type": "code",
   "execution_count": 16,
   "outputs": [
    {
     "name": "stdout",
     "output_type": "stream",
     "text": [
      "Drawing triangle with sides=10, 10, 10\n",
      "43.30127018922193\n",
      "30\n"
     ]
    }
   ],
   "source": [
    "triangle.draw()\n",
    "print(triangle.area())\n",
    "print(triangle.perimeter())"
   ],
   "metadata": {
    "collapsed": false,
    "pycharm": {
     "name": "#%%\n"
    }
   }
  },
  {
   "cell_type": "code",
   "execution_count": 18,
   "outputs": [
    {
     "name": "stdout",
     "output_type": "stream",
     "text": [
      "Drawing rectangle with width=10 and height=15\n",
      "Drawing triangle with sides=10, 10, 10\n"
     ]
    }
   ],
   "source": [
    "# polymorphism\n",
    "for shape in [rect, triangle]:\n",
    "    shape.draw()"
   ],
   "metadata": {
    "collapsed": false,
    "pycharm": {
     "name": "#%%\n"
    }
   }
  },
  {
   "cell_type": "markdown",
   "source": [
    "Class composition."
   ],
   "metadata": {
    "collapsed": false
   }
  },
  {
   "cell_type": "code",
   "execution_count": 2,
   "outputs": [
    {
     "name": "stdout",
     "output_type": "stream",
     "text": [
      "BookShelf with 2 books.\n"
     ]
    }
   ],
   "source": [
    "class BookShelf:\n",
    "    def __init__(self, *books):\n",
    "        self.books = books\n",
    "\n",
    "    def __str__(self):\n",
    "        return f\"BookShelf with {len(self.books)} books.\"\n",
    "\n",
    "\n",
    "class Book:\n",
    "    def __init__(self, name):\n",
    "        self.name = name\n",
    "\n",
    "    def __str__(self):\n",
    "        return f\"Book {self.name}\"\n",
    "\n",
    "\n",
    "book = Book(\"Harry Potter\")\n",
    "book2 = Book(\"Python 101\")\n",
    "shelf = BookShelf(book, book2)\n",
    "\n",
    "print(shelf)"
   ],
   "metadata": {
    "collapsed": false,
    "ExecuteTime": {
     "end_time": "2023-06-21T10:50:32.517985700Z",
     "start_time": "2023-06-21T10:50:32.514290700Z"
    }
   }
  },
  {
   "cell_type": "code",
   "execution_count": null,
   "outputs": [],
   "source": [],
   "metadata": {
    "collapsed": false
   }
  }
 ],
 "metadata": {
  "kernelspec": {
   "display_name": "Python 3",
   "language": "python",
   "name": "python3"
  },
  "language_info": {
   "codemirror_mode": {
    "name": "ipython",
    "version": 2
   },
   "file_extension": ".py",
   "mimetype": "text/x-python",
   "name": "python",
   "nbconvert_exporter": "python",
   "pygments_lexer": "ipython2",
   "version": "2.7.6"
  }
 },
 "nbformat": 4,
 "nbformat_minor": 0
}
