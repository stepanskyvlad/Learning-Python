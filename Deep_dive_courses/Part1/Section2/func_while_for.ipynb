{
 "cells": [
  {
   "cell_type": "code",
   "id": "initial_id",
   "metadata": {
    "collapsed": true,
    "ExecuteTime": {
     "end_time": "2024-10-19T15:16:27.200320Z",
     "start_time": "2024-10-19T15:16:26.941241Z"
    }
   },
   "source": [
    "def func_5():\n",
    "    return func_6()\n",
    "\n",
    "func_5()\n",
    "\n",
    "def func_6():\n",
    "    print('running func_6')"
   ],
   "outputs": [
    {
     "ename": "NameError",
     "evalue": "name 'func_6' is not defined",
     "output_type": "error",
     "traceback": [
      "\u001B[0;31m---------------------------------------------------------------------------\u001B[0m",
      "\u001B[0;31mNameError\u001B[0m                                 Traceback (most recent call last)",
      "Cell \u001B[0;32mIn[1], line 4\u001B[0m\n\u001B[1;32m      1\u001B[0m \u001B[38;5;28;01mdef\u001B[39;00m \u001B[38;5;21mfunc_5\u001B[39m():\n\u001B[1;32m      2\u001B[0m     \u001B[38;5;28;01mreturn\u001B[39;00m func_6()\n\u001B[0;32m----> 4\u001B[0m \u001B[43mfunc_5\u001B[49m\u001B[43m(\u001B[49m\u001B[43m)\u001B[49m\n\u001B[1;32m      6\u001B[0m \u001B[38;5;28;01mdef\u001B[39;00m \u001B[38;5;21mfunc_6\u001B[39m():\n\u001B[1;32m      7\u001B[0m     \u001B[38;5;28mprint\u001B[39m(\u001B[38;5;124m'\u001B[39m\u001B[38;5;124mrunning func_6\u001B[39m\u001B[38;5;124m'\u001B[39m)\n",
      "Cell \u001B[0;32mIn[1], line 2\u001B[0m, in \u001B[0;36mfunc_5\u001B[0;34m()\u001B[0m\n\u001B[1;32m      1\u001B[0m \u001B[38;5;28;01mdef\u001B[39;00m \u001B[38;5;21mfunc_5\u001B[39m():\n\u001B[0;32m----> 2\u001B[0m     \u001B[38;5;28;01mreturn\u001B[39;00m \u001B[43mfunc_6\u001B[49m()\n",
      "\u001B[0;31mNameError\u001B[0m: name 'func_6' is not defined"
     ]
    }
   ],
   "execution_count": 1
  },
  {
   "metadata": {
    "ExecuteTime": {
     "end_time": "2024-10-19T15:18:43.074237Z",
     "start_time": "2024-10-19T15:18:43.067916Z"
    }
   },
   "cell_type": "code",
   "source": [
    "def func_4():\n",
    "    return 'running func_4'\n",
    "\n",
    "type(func_4)"
   ],
   "id": "eaeeb5b413ed5dac",
   "outputs": [
    {
     "data": {
      "text/plain": [
       "function"
      ]
     },
     "execution_count": 3,
     "metadata": {},
     "output_type": "execute_result"
    }
   ],
   "execution_count": 3
  },
  {
   "metadata": {
    "ExecuteTime": {
     "end_time": "2024-10-19T15:19:14.841634Z",
     "start_time": "2024-10-19T15:19:14.837948Z"
    }
   },
   "cell_type": "code",
   "source": [
    "my_func = func_4\n",
    "\n",
    "func_4()"
   ],
   "id": "7074dfd0ed7b431b",
   "outputs": [
    {
     "data": {
      "text/plain": [
       "'running func_4'"
      ]
     },
     "execution_count": 4,
     "metadata": {},
     "output_type": "execute_result"
    }
   ],
   "execution_count": 4
  },
  {
   "metadata": {
    "ExecuteTime": {
     "end_time": "2024-10-19T15:19:21.472881Z",
     "start_time": "2024-10-19T15:19:21.467953Z"
    }
   },
   "cell_type": "code",
   "source": "my_func()",
   "id": "89f394d70f7096f1",
   "outputs": [
    {
     "data": {
      "text/plain": [
       "'running func_4'"
      ]
     },
     "execution_count": 5,
     "metadata": {},
     "output_type": "execute_result"
    }
   ],
   "execution_count": 5
  },
  {
   "metadata": {
    "ExecuteTime": {
     "end_time": "2024-10-19T15:20:24.311437Z",
     "start_time": "2024-10-19T15:20:24.307643Z"
    }
   },
   "cell_type": "code",
   "source": "fni = lambda x: x ** 2",
   "id": "b9a1bda1437304a2",
   "outputs": [],
   "execution_count": 6
  },
  {
   "metadata": {
    "ExecuteTime": {
     "end_time": "2024-10-19T15:20:27.871752Z",
     "start_time": "2024-10-19T15:20:27.866747Z"
    }
   },
   "cell_type": "code",
   "source": "fni",
   "id": "73a451355b0d68b3",
   "outputs": [
    {
     "data": {
      "text/plain": [
       "<function __main__.<lambda>(x)>"
      ]
     },
     "execution_count": 7,
     "metadata": {},
     "output_type": "execute_result"
    }
   ],
   "execution_count": 7
  },
  {
   "metadata": {
    "ExecuteTime": {
     "end_time": "2024-10-19T15:20:49.272459Z",
     "start_time": "2024-10-19T15:20:49.268712Z"
    }
   },
   "cell_type": "code",
   "source": "fni(2)",
   "id": "7fc0852f8153e7e1",
   "outputs": [
    {
     "data": {
      "text/plain": [
       "4"
      ]
     },
     "execution_count": 9,
     "metadata": {},
     "output_type": "execute_result"
    }
   ],
   "execution_count": 9
  },
  {
   "metadata": {
    "ExecuteTime": {
     "end_time": "2024-10-19T16:32:09.688848Z",
     "start_time": "2024-10-19T16:32:09.682928Z"
    }
   },
   "cell_type": "code",
   "source": [
    "l = [1, 2, 3]\n",
    "val = 10\n",
    "idx = 0\n",
    "while idx < len(l):\n",
    "    if l[idx] == val:\n",
    "        break\n",
    "    idx += 1\n",
    "\n",
    "else:\n",
    "    print(\"While loop didn't break\")\n",
    "    l.append(val)\n",
    "\n",
    "print(l)"
   ],
   "id": "313a27f706fc2c61",
   "outputs": [
    {
     "name": "stdout",
     "output_type": "stream",
     "text": [
      "While loop didn't break\n",
      "[1, 2, 3, 10]\n"
     ]
    }
   ],
   "execution_count": 12
  },
  {
   "metadata": {
    "ExecuteTime": {
     "end_time": "2024-10-19T16:32:19.618673Z",
     "start_time": "2024-10-19T16:32:19.613696Z"
    }
   },
   "cell_type": "code",
   "source": [
    "l = [1, 2, 3, 10]\n",
    "val = 10\n",
    "idx = 0\n",
    "while idx < len(l):\n",
    "    if l[idx] == val:\n",
    "        break\n",
    "    idx += 1\n",
    "\n",
    "else:\n",
    "    print(\"While loop didn't break\")\n",
    "    l.append(val)\n",
    "    \n",
    "print(l)"
   ],
   "id": "96eafc7657d3a508",
   "outputs": [
    {
     "name": "stdout",
     "output_type": "stream",
     "text": [
      "[1, 2, 3, 10]\n"
     ]
    }
   ],
   "execution_count": 13
  },
  {
   "metadata": {
    "ExecuteTime": {
     "end_time": "2024-10-19T17:00:12.874153Z",
     "start_time": "2024-10-19T17:00:12.867861Z"
    }
   },
   "cell_type": "code",
   "source": [
    "a = 0\n",
    "b = 2\n",
    "\n",
    "while a < 4:\n",
    "    print('--------------------')\n",
    "    a += 1\n",
    "    b -= 1\n",
    "    \n",
    "    try:\n",
    "        a / b\n",
    "    except ZeroDivisionError:\n",
    "        print(f\"{a}, {b} - division by zero\")\n",
    "        break\n",
    "    finally:\n",
    "        print(f\"{a}, {b} - always executes\")\n",
    "        \n",
    "    print(f\"{a}, {b} - main loop\")\n",
    "    \n",
    "else:\n",
    "    print('Code executed without breaking.')"
   ],
   "id": "d0608322d12e794e",
   "outputs": [
    {
     "name": "stdout",
     "output_type": "stream",
     "text": [
      "--------------------\n",
      "1, 1 - always executes\n",
      "1, 1 - main loop\n",
      "--------------------\n",
      "2, 0 - division by zero\n",
      "2, 0 - always executes\n"
     ]
    }
   ],
   "execution_count": 17
  },
  {
   "metadata": {
    "ExecuteTime": {
     "end_time": "2024-10-19T17:00:36.186254Z",
     "start_time": "2024-10-19T17:00:36.179301Z"
    }
   },
   "cell_type": "code",
   "source": [
    "a = 0\n",
    "b = 2\n",
    "\n",
    "while a < 4:\n",
    "    print('--------------------')\n",
    "    a += 1\n",
    "    b -= 1\n",
    "    \n",
    "    try:\n",
    "        a / b\n",
    "    except ZeroDivisionError:\n",
    "        print(f\"{a}, {b} - division by zero\")\n",
    "        continue\n",
    "    finally:\n",
    "        print(f\"{a}, {b} - always executes\")\n",
    "        \n",
    "    print(f\"{a}, {b} - main loop\")\n",
    "    \n",
    "else:\n",
    "    print('Code executed without breaking.')"
   ],
   "id": "8dab01f228d52e7a",
   "outputs": [
    {
     "name": "stdout",
     "output_type": "stream",
     "text": [
      "--------------------\n",
      "1, 1 - always executes\n",
      "1, 1 - main loop\n",
      "--------------------\n",
      "2, 0 - division by zero\n",
      "2, 0 - always executes\n",
      "--------------------\n",
      "3, -1 - always executes\n",
      "3, -1 - main loop\n",
      "--------------------\n",
      "4, -2 - always executes\n",
      "4, -2 - main loop\n",
      "Code executed without breaking.\n"
     ]
    }
   ],
   "execution_count": 18
  },
  {
   "metadata": {
    "ExecuteTime": {
     "end_time": "2024-10-19T17:08:42.366033Z",
     "start_time": "2024-10-19T17:08:42.360886Z"
    }
   },
   "cell_type": "code",
   "source": [
    "for i in range(5):\n",
    "    print('------------------')\n",
    "    try:\n",
    "        10 / (i-3)\n",
    "    except ZeroDivisionError:\n",
    "        print('division by zero')\n",
    "        continue\n",
    "    finally:\n",
    "        print('always executes')\n",
    "    \n",
    "    print(f\"{i} - outside try block\")\n",
    "else:\n",
    "    print('Code executed without breaking.')"
   ],
   "id": "aa9929bf29f6b2a0",
   "outputs": [
    {
     "name": "stdout",
     "output_type": "stream",
     "text": [
      "------------------\n",
      "always executes\n",
      "0 - outside try block\n",
      "------------------\n",
      "always executes\n",
      "1 - outside try block\n",
      "------------------\n",
      "always executes\n",
      "2 - outside try block\n",
      "------------------\n",
      "division by zero\n",
      "always executes\n",
      "------------------\n",
      "always executes\n",
      "4 - outside try block\n",
      "Code executed without breaking.\n"
     ]
    }
   ],
   "execution_count": 19
  },
  {
   "metadata": {
    "ExecuteTime": {
     "end_time": "2024-10-19T17:09:26.428795Z",
     "start_time": "2024-10-19T17:09:26.424419Z"
    }
   },
   "cell_type": "code",
   "source": [
    "for i in range(5):\n",
    "    print('------------------')\n",
    "    try:\n",
    "        10 / (i-3)\n",
    "    except ZeroDivisionError:\n",
    "        print('division by zero')\n",
    "        break\n",
    "    finally:\n",
    "        print('always executes')\n",
    "    \n",
    "    print(f\"{i} - outside try block\")\n",
    "else:\n",
    "    print('Code executed without breaking.')"
   ],
   "id": "264b38773a1a3fb7",
   "outputs": [
    {
     "name": "stdout",
     "output_type": "stream",
     "text": [
      "------------------\n",
      "always executes\n",
      "0 - outside try block\n",
      "------------------\n",
      "always executes\n",
      "1 - outside try block\n",
      "------------------\n",
      "always executes\n",
      "2 - outside try block\n",
      "------------------\n",
      "division by zero\n",
      "always executes\n"
     ]
    }
   ],
   "execution_count": 20
  },
  {
   "metadata": {
    "ExecuteTime": {
     "end_time": "2024-10-19T17:13:44.704516Z",
     "start_time": "2024-10-19T17:13:44.700024Z"
    }
   },
   "cell_type": "code",
   "source": [
    "s = 'hello'\n",
    "\n",
    "for i, c  in enumerate(s):\n",
    "    print(i, c)"
   ],
   "id": "3c23d355922bd33c",
   "outputs": [
    {
     "name": "stdout",
     "output_type": "stream",
     "text": [
      "0 h\n",
      "1 e\n",
      "2 l\n",
      "3 l\n",
      "4 o\n"
     ]
    }
   ],
   "execution_count": 21
  },
  {
   "metadata": {},
   "cell_type": "code",
   "outputs": [],
   "execution_count": null,
   "source": "",
   "id": "26c2705a0b185ac5"
  }
 ],
 "metadata": {
  "kernelspec": {
   "display_name": "Python 3",
   "language": "python",
   "name": "python3"
  },
  "language_info": {
   "codemirror_mode": {
    "name": "ipython",
    "version": 2
   },
   "file_extension": ".py",
   "mimetype": "text/x-python",
   "name": "python",
   "nbconvert_exporter": "python",
   "pygments_lexer": "ipython2",
   "version": "2.7.6"
  }
 },
 "nbformat": 4,
 "nbformat_minor": 5
}
